{
  "cells": [
    {
      "cell_type": "markdown",
      "metadata": {
        "id": "R-VNDhljpc1B"
      },
      "source": [
        "# Pandas"
      ]
    },
    {
      "cell_type": "markdown",
      "metadata": {
        "id": "nox_OMmcpc1C"
      },
      "source": [
        "Материалы:\n",
        "* Макрушин С.В. \"Лекция 2: Библиотека Pandas\"\n",
        "* https://pandas.pydata.org/docs/user_guide/index.html#\n",
        "* https://pandas.pydata.org/docs/reference/index.html\n",
        "* Уэс Маккини. Python и анализ данных"
      ]
    },
    {
      "cell_type": "markdown",
      "metadata": {
        "id": "oxAf26W9pc1C"
      },
      "source": [
        "## Задачи для совместного разбора"
      ]
    },
    {
      "cell_type": "markdown",
      "metadata": {
        "id": "n0M5FvSIpc1C"
      },
      "source": [
        "1. Загрузите данные из файла `sp500hst.txt` и обозначьте столбцы в соответствии с содержимым: `\"date\", \"ticker\", \"open\", \"high\", \"low\", \"close\", \"volume\"`."
      ]
    },
    {
      "cell_type": "markdown",
      "metadata": {
        "id": "-yDO389Fpc1D"
      },
      "source": [
        "2. Рассчитайте среднее значение показателей для каждого из столбцов c номерами 3-6."
      ]
    },
    {
      "cell_type": "markdown",
      "metadata": {
        "id": "acnF8CKspc1D"
      },
      "source": [
        "3. Добавьте столбец, содержащий только число месяца, к которому относится дата."
      ]
    },
    {
      "cell_type": "markdown",
      "metadata": {
        "id": "ZG6cDkS_pc1D"
      },
      "source": [
        "4. Рассчитайте суммарный объем торгов для для одинаковых значений тикеров."
      ]
    },
    {
      "cell_type": "markdown",
      "metadata": {
        "id": "j8lRnX5Wpc1D"
      },
      "source": [
        "5. Загрузите данные из файла sp500hst.txt и обозначьте столбцы в соответствии с содержимым: \"date\", \"ticker\", \"open\", \"high\", \"low\", \"close\", \"volume\". Добавьте столбец с расшифровкой названия тикера, используя данные из файла `sp_data2.csv` . В случае нехватки данных об именах тикеров корректно обработать их."
      ]
    },
    {
      "cell_type": "markdown",
      "metadata": {
        "id": "A9qKR0TPpc1D"
      },
      "source": [
        "## Лабораторная работа №2"
      ]
    },
    {
      "cell_type": "markdown",
      "metadata": {
        "id": "V-A3wvZzpc1D"
      },
      "source": [
        "### Базовые операции с `DataFrame`"
      ]
    },
    {
      "cell_type": "markdown",
      "metadata": {
        "id": "7CtMFt0Xpc1D"
      },
      "source": [
        "1.1 В файлах `recipes_sample.csv` и `reviews_sample.csv` находится информация об рецептах блюд и отзывах на эти рецепты соответственно. Загрузите данные из файлов в виде `pd.DataFrame` с названиями `recipes` и `reviews`. Обратите внимание на корректное считывание столбца с индексами в таблице `reviews` (безымянный столбец)."
      ]
    },
    {
      "cell_type": "code",
      "execution_count": null,
      "metadata": {
        "id": "MhDkjch9pc1D"
      },
      "outputs": [],
      "source": [
        "import pandas as pd\n",
        "\n",
        "recipes = pd.read_csv('data/recipes_sample.csv')\n",
        "reviews = pd.read_csv('data/reviews_sample.csv', index_col=0)"
      ]
    },
    {
      "cell_type": "markdown",
      "metadata": {
        "id": "8xKSspFUpc1E"
      },
      "source": [
        "1.2 Для каждой из таблиц выведите основные параметры:\n",
        "* количество точек данных (строк);\n",
        "* количество столбцов;\n",
        "* тип данных каждого столбца."
      ]
    },
    {
      "cell_type": "code",
      "execution_count": null,
      "metadata": {
        "id": "G3KvNLLHpc1E",
        "outputId": "6453f241-125a-4550-f1ac-63956b0581da"
      },
      "outputs": [
        {
          "name": "stdout",
          "output_type": "stream",
          "text": [
            "Recipes table:\n",
            "Number of rows: 30000\n",
            "Number of columns: 8\n",
            "Data types:\n",
            "name               object\n",
            "id                  int64\n",
            "minutes             int64\n",
            "contributor_id      int64\n",
            "submitted          object\n",
            "n_steps           float64\n",
            "description        object\n",
            "n_ingredients     float64\n",
            "dtype: object\n",
            "\n",
            "Reviews table:\n",
            "Number of rows: 126696\n",
            "Number of columns: 5\n",
            "Data types:\n",
            "user_id       int64\n",
            "recipe_id     int64\n",
            "date         object\n",
            "rating        int64\n",
            "review       object\n",
            "dtype: object\n"
          ]
        }
      ],
      "source": [
        "print(\"Recipes table:\")\n",
        "print(\"Number of rows:\", recipes.shape[0])\n",
        "print(\"Number of columns:\", recipes.shape[1])\n",
        "print(\"Data types:\")\n",
        "print(recipes.dtypes)\n",
        "\n",
        "print(\"\\nReviews table:\")\n",
        "print(\"Number of rows:\", reviews.shape[0])\n",
        "print(\"Number of columns:\", reviews.shape[1])\n",
        "print(\"Data types:\")\n",
        "print(reviews.dtypes)"
      ]
    },
    {
      "cell_type": "markdown",
      "metadata": {
        "id": "jceEloQ1pc1E"
      },
      "source": [
        "1.3 Исследуйте, в каких столбцах таблиц содержатся пропуски. Посчитайте долю строк, содержащих пропуски, в отношении к общему количеству строк."
      ]
    },
    {
      "cell_type": "code",
      "execution_count": null,
      "metadata": {
        "id": "6v07R2KCpc1E",
        "outputId": "c1bb7562-e0e1-4586-8720-ba654677eff6"
      },
      "outputs": [
        {
          "name": "stdout",
          "output_type": "stream",
          "text": [
            "Recipes table:\n",
            "Column name has no missing values.\n",
            "Column id has no missing values.\n",
            "Column minutes has no missing values.\n",
            "Column contributor_id has no missing values.\n",
            "Column submitted has no missing values.\n",
            "Column n_steps has 37.30% missing values.\n",
            "Column description has 2.08% missing values.\n",
            "Column n_ingredients has 29.60% missing values.\n",
            "\n",
            "Reviews table:\n",
            "Column user_id has no missing values.\n",
            "Column recipe_id has no missing values.\n",
            "Column date has no missing values.\n",
            "Column rating has no missing values.\n",
            "Column review has 0.01% missing values.\n"
          ]
        }
      ],
      "source": [
        "print(\"Recipes table:\")\n",
        "for col in recipes.columns:\n",
        "    if recipes[col].isna().sum() > 0:\n",
        "        print(f\"Column {col} has {recipes[col].isna().mean():.2%} missing values.\")\n",
        "    else:\n",
        "        print(f\"Column {col} has no missing values.\")\n",
        "\n",
        "print(\"\\nReviews table:\")\n",
        "for col in reviews.columns:\n",
        "    if reviews[col].isna().sum() > 0:\n",
        "        print(f\"Column {col} has {reviews[col].isna().mean():.2%} missing values.\")\n",
        "    else:\n",
        "        print(f\"Column {col} has no missing values.\")"
      ]
    },
    {
      "cell_type": "markdown",
      "metadata": {
        "id": "oXAtrz_Bpc1F"
      },
      "source": [
        "1.4 Рассчитайте среднее значение для каждого из числовых столбцов (где это имеет смысл)."
      ]
    },
    {
      "cell_type": "code",
      "execution_count": null,
      "metadata": {
        "id": "tuESpJtppc1F",
        "outputId": "42a4f86a-e6f9-43eb-c166-f42dac694dbc"
      },
      "outputs": [
        {
          "name": "stdout",
          "output_type": "stream",
          "text": [
            "Recipes table:\n",
            "Average value for minutes: 123.35813333333333\n",
            "Average value for n_steps: 9.805582137161085\n",
            "Average value for n_ingredients: 9.008285984848484\n",
            "\n",
            "Reviews table:\n",
            "Average value for rating: 4.410802235271832\n"
          ]
        }
      ],
      "source": [
        "numeric_cols = recipes.select_dtypes(include=['int64', 'float64']).columns.drop(['id', 'contributor_id'])\n",
        "print(\"Recipes table:\")\n",
        "for col in numeric_cols:\n",
        "    print(f\"Average value for {col}: {recipes[col].mean()}\")\n",
        "\n",
        "numeric_cols = reviews.select_dtypes(include=['int64', 'float64']).columns.drop(['user_id', 'recipe_id'])\n",
        "print(\"\\nReviews table:\")\n",
        "for col in numeric_cols:\n",
        "    print(f\"Average value for {col}: {reviews[col].mean()}\")"
      ]
    },
    {
      "cell_type": "markdown",
      "metadata": {
        "id": "bJO-gtWspc1F"
      },
      "source": [
        "1.5 Создайте серию из 10 случайных названий рецептов."
      ]
    },
    {
      "cell_type": "code",
      "execution_count": null,
      "metadata": {
        "id": "RMcpuQXFpc1F",
        "outputId": "27b48cb7-8c2c-478a-b4d6-45a9779e3ea8"
      },
      "outputs": [
        {
          "name": "stdout",
          "output_type": "stream",
          "text": [
            "5740     chicken cutlets with fried capers  parsley  an...\n",
            "5533                           chicken   leeks and spinach\n",
            "530                                       almond meltaways\n",
            "14805                    jacques pepin family style shrimp\n",
            "26405            super chocolate bundt cake  uses cake mix\n",
            "13064                                grilled tuscan salmon\n",
            "16035                                   lemony green beans\n",
            "3156             black bottom cupcakes  the correct recipe\n",
            "201                                  4 in 1 bean casserole\n",
            "1569                               awesome turkey sandwich\n",
            "Name: name, dtype: object\n"
          ]
        }
      ],
      "source": [
        "import numpy as np\n",
        "\n",
        "random_names = recipes['name'].sample(n=10)\n",
        "print(random_names)"
      ]
    },
    {
      "cell_type": "markdown",
      "metadata": {
        "id": "lK7UR4xDpc1F"
      },
      "source": [
        "1.6 Измените индекс в таблице `reviews`, пронумеровав строки, начиная с нуля."
      ]
    },
    {
      "cell_type": "code",
      "execution_count": null,
      "metadata": {
        "id": "DRsfYYsbpc1F",
        "outputId": "d85414d5-8bff-4036-cc71-0d0cb5257ae1"
      },
      "outputs": [
        {
          "name": "stdout",
          "output_type": "stream",
          "text": [
            "      user_id  recipe_id        date  rating  \\\n",
            "0       21752      57993  2003-05-01       5   \n",
            "1      431813     142201  2007-09-16       5   \n",
            "2      400708     252013  2008-01-10       4   \n",
            "3  2001852463     404716  2017-12-11       5   \n",
            "4       95810     129396  2008-03-14       5   \n",
            "\n",
            "                                              review  \n",
            "0  Last week whole sides of frozen salmon fillet ...  \n",
            "1  So simple and so tasty!  I used a yellow capsi...  \n",
            "2  Very nice breakfast HH, easy to make and yummy...  \n",
            "3  These are a favorite for the holidays and so e...  \n",
            "4  Excellent soup!  The tomato flavor is just gre...  \n"
          ]
        }
      ],
      "source": [
        "reviews = reviews.reset_index(drop=True)\n",
        "print(reviews.head())"
      ]
    },
    {
      "cell_type": "markdown",
      "metadata": {
        "id": "aTkuzMpMpc1F"
      },
      "source": [
        "1.7 Выведите информацию о рецептах, время выполнения которых не больше 20 минут и кол-во ингредиентов в которых не больше 5."
      ]
    },
    {
      "cell_type": "code",
      "execution_count": null,
      "metadata": {
        "id": "UmozHWDXpc1F",
        "outputId": "6e95c9dc-77a7-4c60-8f38-2ec8b22190c7"
      },
      "outputs": [
        {
          "name": "stdout",
          "output_type": "stream",
          "text": [
            "                                                    name  minutes  \\\n",
            "28                                   quick biscuit bread       20   \n",
            "60                         peas  fit for a king or queen       20   \n",
            "90                     hawaiian sunrise           mimosa        5   \n",
            "91            tasty dish s   banana pudding in 2 minutes        2   \n",
            "94                                    1 minute meatballs       13   \n",
            "...                                                  ...      ...   \n",
            "29873  zip and steam red potatoes with butter and garlic       13   \n",
            "29874                          ziplock vanilla ice cream       10   \n",
            "29905                      zucchini and corn with cheese       15   \n",
            "29980               zucchini with jalapeno monterey jack       10   \n",
            "29983                          zucchini with serrano ham       15   \n",
            "\n",
            "       n_ingredients  \n",
            "28               5.0  \n",
            "60               5.0  \n",
            "90               3.0  \n",
            "91               4.0  \n",
            "94               2.0  \n",
            "...              ...  \n",
            "29873            5.0  \n",
            "29874            3.0  \n",
            "29905            5.0  \n",
            "29980            3.0  \n",
            "29983            5.0  \n",
            "\n",
            "[2019 rows x 3 columns]\n"
          ]
        }
      ],
      "source": [
        "quick_and_easy = recipes[(recipes['minutes'] <= 20) & (recipes['n_ingredients'] <= 5)]\n",
        "print(quick_and_easy[['name', 'minutes', 'n_ingredients']])"
      ]
    },
    {
      "cell_type": "markdown",
      "metadata": {
        "id": "3i5G6Tffpc1G"
      },
      "source": [
        "### Работа с датами в `pandas`"
      ]
    },
    {
      "cell_type": "markdown",
      "metadata": {
        "id": "jZPHPANMpc1G"
      },
      "source": [
        "2.1 Преобразуйте столбец `submitted` из таблицы `recipes` в формат времени. Модифицируйте решение задачи 1.1 так, чтобы считать столбец сразу в нужном формате."
      ]
    },
    {
      "cell_type": "code",
      "execution_count": null,
      "metadata": {
        "id": "chdFlx_Vpc1G",
        "outputId": "aede2d69-7f43-44e1-94ae-d11e7eac76ac"
      },
      "outputs": [
        {
          "name": "stdout",
          "output_type": "stream",
          "text": [
            "<class 'pandas.core.frame.DataFrame'>\n",
            "RangeIndex: 30000 entries, 0 to 29999\n",
            "Data columns (total 8 columns):\n",
            " #   Column          Non-Null Count  Dtype         \n",
            "---  ------          --------------  -----         \n",
            " 0   name            30000 non-null  object        \n",
            " 1   id              30000 non-null  int64         \n",
            " 2   minutes         30000 non-null  int64         \n",
            " 3   contributor_id  30000 non-null  int64         \n",
            " 4   submitted       30000 non-null  datetime64[ns]\n",
            " 5   n_steps         18810 non-null  float64       \n",
            " 6   description     29377 non-null  object        \n",
            " 7   n_ingredients   21120 non-null  float64       \n",
            "dtypes: datetime64[ns](1), float64(2), int64(3), object(2)\n",
            "memory usage: 1.8+ MB\n",
            "None\n"
          ]
        }
      ],
      "source": [
        "recipes = pd.read_csv('data/recipes_sample.csv', parse_dates=['submitted'])\n",
        "print(recipes.info())"
      ]
    },
    {
      "cell_type": "markdown",
      "metadata": {
        "id": "j4REo4phpc1G"
      },
      "source": [
        "2.2 Выведите информацию о рецептах, добавленных в датасет не позже 2010 года."
      ]
    },
    {
      "cell_type": "code",
      "execution_count": null,
      "metadata": {
        "id": "uScUToNSpc1G",
        "outputId": "ecbc4d38-747b-426f-e1a6-5eee87a3781f"
      },
      "outputs": [
        {
          "name": "stdout",
          "output_type": "stream",
          "text": [
            "                                               name  submitted\n",
            "0             george s at the cove  black bean soup 2002-10-25\n",
            "1                healthy for them  yogurt popsicles 2003-07-26\n",
            "2                      i can t believe it s spinach 2002-08-29\n",
            "3                              italian  gut busters 2002-07-27\n",
            "4          love is in the air  beef fondue   sauces 2004-02-23\n",
            "...                                             ...        ...\n",
            "29993                     zuni caf zucchini pickles 2008-07-31\n",
            "29995  zurie s holey rustic olive and cheddar bread 2007-11-25\n",
            "29996          zwetschgenkuchen  bavarian plum cake 2009-08-24\n",
            "29997   zwiebelkuchen   southwest german onion cake 2004-11-03\n",
            "29999        cookies by design   cookies on a stick 2008-04-15\n",
            "\n",
            "[27661 rows x 2 columns]\n"
          ]
        }
      ],
      "source": [
        "old_recipes = recipes[recipes['submitted'].dt.year <= 2010]\n",
        "print(old_recipes[['name', 'submitted']])"
      ]
    },
    {
      "cell_type": "markdown",
      "metadata": {
        "id": "4jguIbe4pc1G"
      },
      "source": [
        "### Работа со строковыми данными в `pandas`"
      ]
    },
    {
      "cell_type": "markdown",
      "metadata": {
        "id": "wj974z53pc1G"
      },
      "source": [
        "3.1  Добавьте в таблицу `recipes` столбец `description_length`, в котором хранится длина описания рецепта из столбца `description`."
      ]
    },
    {
      "cell_type": "code",
      "execution_count": null,
      "metadata": {
        "id": "b_EMtHS0pc1G",
        "outputId": "b3eb8c68-ee38-4fe8-9557-91dcb7f99980"
      },
      "outputs": [
        {
          "name": "stdout",
          "output_type": "stream",
          "text": [
            "                                       name     id  minutes  contributor_id  \\\n",
            "0     george s at the cove  black bean soup  44123       90           35193   \n",
            "1        healthy for them  yogurt popsicles  67664       10           91970   \n",
            "2              i can t believe it s spinach  38798       30            1533   \n",
            "3                      italian  gut busters  35173       45           22724   \n",
            "4  love is in the air  beef fondue   sauces  84797       25            4470   \n",
            "\n",
            "   submitted  n_steps                                        description  \\\n",
            "0 2002-10-25      NaN  an original recipe created by chef scott meska...   \n",
            "1 2003-07-26      NaN  my children and their friends ask for my homem...   \n",
            "2 2002-08-29      NaN            these were so go, it surprised even me.   \n",
            "3 2002-07-27      NaN  my sister-in-law made these for us at a family...   \n",
            "4 2004-02-23      4.0  i think a fondue is a very romantic casual din...   \n",
            "\n",
            "   n_ingredients  description_length  \n",
            "0           18.0               330.0  \n",
            "1            NaN               255.0  \n",
            "2            8.0                39.0  \n",
            "3            NaN               154.0  \n",
            "4            NaN               587.0  \n"
          ]
        }
      ],
      "source": [
        "recipes['description_length'] = recipes['description'].str.len()\n",
        "print(recipes.head())"
      ]
    },
    {
      "cell_type": "markdown",
      "metadata": {
        "id": "seQx_emUpc1G"
      },
      "source": [
        "3.2 Измените название каждого рецепта в таблице `recipes` таким образом, чтобы каждое слово в названии начиналось с прописной буквы."
      ]
    },
    {
      "cell_type": "code",
      "execution_count": null,
      "metadata": {
        "id": "i1RJlecvpc1G",
        "outputId": "93fd2554-1850-4533-c7bd-5de15636a012"
      },
      "outputs": [
        {
          "name": "stdout",
          "output_type": "stream",
          "text": [
            "                                       name     id  minutes  contributor_id  \\\n",
            "0     George S At The Cove  Black Bean Soup  44123       90           35193   \n",
            "1        Healthy For Them  Yogurt Popsicles  67664       10           91970   \n",
            "2              I Can T Believe It S Spinach  38798       30            1533   \n",
            "3                      Italian  Gut Busters  35173       45           22724   \n",
            "4  Love Is In The Air  Beef Fondue   Sauces  84797       25            4470   \n",
            "\n",
            "   submitted  n_steps                                        description  \\\n",
            "0 2002-10-25      NaN  an original recipe created by chef scott meska...   \n",
            "1 2003-07-26      NaN  my children and their friends ask for my homem...   \n",
            "2 2002-08-29      NaN            these were so go, it surprised even me.   \n",
            "3 2002-07-27      NaN  my sister-in-law made these for us at a family...   \n",
            "4 2004-02-23      4.0  i think a fondue is a very romantic casual din...   \n",
            "\n",
            "   n_ingredients  description_length  \n",
            "0           18.0               330.0  \n",
            "1            NaN               255.0  \n",
            "2            8.0                39.0  \n",
            "3            NaN               154.0  \n",
            "4            NaN               587.0  \n"
          ]
        }
      ],
      "source": [
        "recipes['name'] = recipes['name'].str.title()\n",
        "print(recipes.head())"
      ]
    },
    {
      "cell_type": "markdown",
      "metadata": {
        "id": "O5apMz6Bpc1H"
      },
      "source": [
        "3.3 Добавьте в таблицу `recipes` столбец `name_word_count`, в котором хранится количество слов из названии рецепта (считайте, что слова в названии разделяются только пробелами). Обратите внимание, что между словами может располагаться несколько пробелов подряд."
      ]
    },
    {
      "cell_type": "code",
      "execution_count": null,
      "metadata": {
        "id": "pukZvPA5pc1H",
        "outputId": "6166c32a-36f7-412f-fd50-abb7a791ca41"
      },
      "outputs": [
        {
          "name": "stdout",
          "output_type": "stream",
          "text": [
            "                                       name     id  minutes  contributor_id  \\\n",
            "0     George S At The Cove  Black Bean Soup  44123       90           35193   \n",
            "1        Healthy For Them  Yogurt Popsicles  67664       10           91970   \n",
            "2              I Can T Believe It S Spinach  38798       30            1533   \n",
            "3                      Italian  Gut Busters  35173       45           22724   \n",
            "4  Love Is In The Air  Beef Fondue   Sauces  84797       25            4470   \n",
            "\n",
            "   submitted  n_steps                                        description  \\\n",
            "0 2002-10-25      NaN  an original recipe created by chef scott meska...   \n",
            "1 2003-07-26      NaN  my children and their friends ask for my homem...   \n",
            "2 2002-08-29      NaN            these were so go, it surprised even me.   \n",
            "3 2002-07-27      NaN  my sister-in-law made these for us at a family...   \n",
            "4 2004-02-23      4.0  i think a fondue is a very romantic casual din...   \n",
            "\n",
            "   n_ingredients  description_length  name_word_count  \n",
            "0           18.0               330.0                8  \n",
            "1            NaN               255.0                5  \n",
            "2            8.0                39.0                7  \n",
            "3            NaN               154.0                3  \n",
            "4            NaN               587.0                8  \n"
          ]
        }
      ],
      "source": [
        "recipes['name_word_count'] = recipes['name'].str.split().str.len()\n",
        "print(recipes.head())"
      ]
    },
    {
      "cell_type": "markdown",
      "metadata": {
        "id": "Ty_G-mgtpc1H"
      },
      "source": [
        "### Группировки таблиц `pd.DataFrame`"
      ]
    },
    {
      "cell_type": "markdown",
      "metadata": {
        "id": "T5JwLmnKpc1H"
      },
      "source": [
        "4.1 Посчитайте количество рецептов, представленных каждым из участников (`contributor_id`). Какой участник добавил максимальное кол-во рецептов?"
      ]
    },
    {
      "cell_type": "code",
      "execution_count": null,
      "metadata": {
        "id": "eDQPqIA0pc1H",
        "outputId": "187f091f-5bf3-463e-d0f6-c00b00229c77"
      },
      "outputs": [
        {
          "name": "stdout",
          "output_type": "stream",
          "text": [
            "Number of recipes submitted by each contributor:\n",
            "\n",
            "89831      421\n",
            "37449      346\n",
            "37779      345\n",
            "1533       186\n",
            "169430     183\n",
            "          ... \n",
            "1061628      1\n",
            "1076183      1\n",
            "429061       1\n",
            "64032        1\n",
            "186118       1\n",
            "Name: contributor_id, Length: 8404, dtype: int64\n",
            "\n",
            "Contributor who added the most recipes: 89831\n",
            "\n"
          ]
        }
      ],
      "source": [
        "recipe_counts = recipes['contributor_id'].value_counts()\n",
        "\n",
        "max_contributor = recipe_counts.idxmax()\n",
        "\n",
        "print(\"Number of recipes submitted by each contributor:\\n\")\n",
        "print(recipe_counts)\n",
        "print(\"\\nContributor who added the most recipes: {}\\n\".format(max_contributor))"
      ]
    },
    {
      "cell_type": "markdown",
      "metadata": {
        "id": "doncRjmDpc1H"
      },
      "source": [
        "4.2 Посчитайте средний рейтинг к каждому из рецептов. Для скольких рецептов отсутствуют отзывы? Обратите внимание, что отзыв с нулевым рейтингом или не заполненным текстовым описанием не считается отсутствующим."
      ]
    },
    {
      "cell_type": "code",
      "execution_count": null,
      "metadata": {
        "id": "2DtJrxL0pc1H",
        "outputId": "3ac38a10-8749-4a6a-f1d0-e77af560e30b"
      },
      "outputs": [
        {
          "name": "stdout",
          "output_type": "stream",
          "text": [
            "Average rating for each recipe:\n",
            "\n",
            "recipe_id\n",
            "48        1.000000\n",
            "55        4.750000\n",
            "66        4.944444\n",
            "91        4.750000\n",
            "94        5.000000\n",
            "            ...   \n",
            "536547    5.000000\n",
            "536610    0.000000\n",
            "536728    4.000000\n",
            "536729    4.750000\n",
            "536747    0.000000\n",
            "Name: rating, Length: 28100, dtype: float64\n",
            "\n",
            "Number of recipes with missing reviews: 1900\n",
            "\n"
          ]
        }
      ],
      "source": [
        "avg_ratings = reviews.groupby('recipe_id')['rating'].mean()\n",
        "\n",
        "missing_reviews = recipes['id'].nunique() - avg_ratings.count()\n",
        "\n",
        "print(\"Average rating for each recipe:\\n\")\n",
        "print(avg_ratings)\n",
        "print(\"\\nNumber of recipes with missing reviews: {}\\n\".format(missing_reviews))"
      ]
    },
    {
      "cell_type": "markdown",
      "metadata": {
        "id": "RjVOoka5pc1H"
      },
      "source": [
        "4.3 Посчитайте количество рецептов с разбивкой по годам создания."
      ]
    },
    {
      "cell_type": "code",
      "execution_count": null,
      "metadata": {
        "id": "a6Hfwugopc1H",
        "outputId": "bfa08a20-6087-436c-ff6c-11cced948940"
      },
      "outputs": [
        {
          "name": "stdout",
          "output_type": "stream",
          "text": [
            "Number of recipes by year of creation:\n",
            "\n",
            "submitted\n",
            "1999     275\n",
            "2000     104\n",
            "2001     589\n",
            "2002    2644\n",
            "2003    2334\n",
            "2004    2153\n",
            "2005    3130\n",
            "2006    3473\n",
            "2007    4429\n",
            "2008    4029\n",
            "2009    2963\n",
            "2010    1538\n",
            "2011     922\n",
            "2012     659\n",
            "2013     490\n",
            "2014     139\n",
            "2015      42\n",
            "2016      24\n",
            "2017      39\n",
            "2018      24\n",
            "dtype: int64\n"
          ]
        }
      ],
      "source": [
        "recipes_by_year = recipes.groupby(recipes['submitted'].dt.year).size()\n",
        "\n",
        "print(\"Number of recipes by year of creation:\\n\")\n",
        "print(recipes_by_year)"
      ]
    },
    {
      "cell_type": "markdown",
      "metadata": {
        "id": "WJqpbNFxpc1H"
      },
      "source": [
        "### Объединение таблиц `pd.DataFrame`"
      ]
    },
    {
      "cell_type": "markdown",
      "metadata": {
        "id": "MxZXh3_Upc1H"
      },
      "source": [
        "5.1 При помощи объединения таблиц, создайте `DataFrame`, состоящий из четырех столбцов: `id`, `name`, `user_id`, `rating`. Рецепты, на которые не оставлен ни один отзыв, должны отсутствовать в полученной таблице. Подтвердите правильность работы вашего кода, выбрав рецепт, не имеющий отзывов, и попытавшись найти строку, соответствующую этому рецепту, в полученном `DataFrame`."
      ]
    },
    {
      "cell_type": "code",
      "execution_count": null,
      "metadata": {
        "id": "JoSbU-tYpc1H",
        "outputId": "688b6b1a-5528-45c9-abc9-1f837eab2f1b"
      },
      "outputs": [
        {
          "name": "stdout",
          "output_type": "stream",
          "text": [
            "            id                                    name  user_id  rating\n",
            "0        44123   George S At The Cove  Black Bean Soup   743566       5\n",
            "1        44123   George S At The Cove  Black Bean Soup    76503       5\n",
            "2        44123   George S At The Cove  Black Bean Soup    34206       5\n",
            "3        67664      Healthy For Them  Yogurt Popsicles   494084       5\n",
            "4        67664      Healthy For Them  Yogurt Popsicles   303445       5\n",
            "...        ...                                     ...      ...     ...\n",
            "126691  486161                             Zydeco Soup   305531       5\n",
            "126692  486161                             Zydeco Soup  1271506       5\n",
            "126693  486161                             Zydeco Soup   724631       5\n",
            "126694  486161                             Zydeco Soup   133174       5\n",
            "126695  298512  Cookies By Design   Cookies On A Stick   804234       1\n",
            "\n",
            "[126696 rows x 4 columns]\n"
          ]
        }
      ],
      "source": [
        "merged = pd.merge(recipes[['id', 'name']], reviews[['recipe_id', 'user_id', 'rating']], left_on='id', right_on='recipe_id')\n",
        "\n",
        "merged.drop('recipe_id', axis=1, inplace=True)\n",
        "\n",
        "print(merged)"
      ]
    },
    {
      "cell_type": "code",
      "execution_count": null,
      "metadata": {
        "id": "N9e92Tl-pc1I",
        "outputId": "7b01df66-c328-41ca-a4c8-394346b03281"
      },
      "outputs": [
        {
          "name": "stdout",
          "output_type": "stream",
          "text": [
            "Empty DataFrame\n",
            "Columns: [id, name, user_id, rating]\n",
            "Index: []\n"
          ]
        }
      ],
      "source": [
        "no_reviews_recipe = recipes[recipes['id'] == 222261]\n",
        "\n",
        "print(merged[merged['id'] == 222261])"
      ]
    },
    {
      "cell_type": "markdown",
      "metadata": {
        "id": "9_oxriHjpc1I"
      },
      "source": [
        "5.2 При помощи объединения таблиц и группировок, создайте `DataFrame`, состоящий из трех столбцов: `recipe_id`, `name`, `review_count`, где столбец `review_count` содержит кол-во отзывов, оставленных на рецепт `recipe_id`. У рецептов, на которые не оставлен ни один отзыв, в столбце `review_count` должен быть указан 0. Подтвердите правильность работы вашего кода, выбрав рецепт, не имеющий отзывов, и найдя строку, соответствующую этому рецепту, в полученном `DataFrame`."
      ]
    },
    {
      "cell_type": "code",
      "execution_count": null,
      "metadata": {
        "id": "0ncO7n_1pc1I",
        "outputId": "ea50690b-0d07-4152-e2a2-fc9dc837382c"
      },
      "outputs": [
        {
          "name": "stdout",
          "output_type": "stream",
          "text": [
            "                                            review_count\n",
            "name                                                    \n",
            "Boston Cream Pie                                       2\n",
            "Betty Crocker S Southwestern Guacamole Dip             4\n",
            "Black Coffee Barbecue Sauce                           18\n",
            "Brown Rice And Vegetable Pilaf                         4\n",
            "Blueberry Buttertarts                                  4\n",
            "...                                                  ...\n",
            "Cauliflower Ceviche                                    1\n",
            "Miracle Home Made Puff Pastry                          1\n",
            "Gluten Free  Vegemite                                  1\n",
            "Creole Watermelon Feta Salad                           4\n",
            "Lemon Pom Pom Cake                                     4\n",
            "\n",
            "[28100 rows x 1 columns]\n"
          ]
        }
      ],
      "source": [
        "merged = pd.merge(recipes[['id', 'name']], reviews[['recipe_id']], left_on='id', right_on='recipe_id')\n",
        "\n",
        "review_counts = merged.groupby('recipe_id')['recipe_id'].count()\n",
        "\n",
        "recipe_review_counts = pd.DataFrame({'recipe_id': review_counts.index, 'review_count': review_counts.values})\n",
        "\n",
        "recipe_review_counts = pd.merge(recipe_review_counts, recipes[['id', 'name']], left_on='recipe_id', right_on='id')\n",
        "\n",
        "recipe_review_counts.drop(['id', 'recipe_id'], axis=1, inplace=True)\n",
        "\n",
        "recipe_review_counts.set_index('name', inplace=True)\n",
        "\n",
        "print(recipe_review_counts)"
      ]
    },
    {
      "cell_type": "code",
      "execution_count": null,
      "metadata": {
        "id": "2v6R3fEUpc1I",
        "outputId": "a2214433-3ccf-4462-eaa1-d508890647fb"
      },
      "outputs": [
        {
          "name": "stdout",
          "output_type": "stream",
          "text": [
            "Empty DataFrame\n",
            "Columns: [review_count]\n",
            "Index: []\n"
          ]
        }
      ],
      "source": [
        "no_reviews_recipe = recipes[recipes['id'] == 222261]\n",
        "\n",
        "print(recipe_review_counts.loc[no_reviews_recipe['name']])"
      ]
    },
    {
      "cell_type": "markdown",
      "metadata": {
        "id": "FXvMP-Y8pc1I"
      },
      "source": [
        "5.3. Выясните, рецепты, добавленные в каком году, имеют наименьший средний рейтинг?"
      ]
    },
    {
      "cell_type": "code",
      "execution_count": null,
      "metadata": {
        "id": "14QY85Cspc1I",
        "outputId": "b02ff57c-e119-4169-bc89-160b85645fa0"
      },
      "outputs": [
        {
          "name": "stdout",
          "output_type": "stream",
          "text": [
            "Year and recipe with the lowest average rating: (1999, 'Bugwiches')\n",
            "\n"
          ]
        }
      ],
      "source": [
        "merged = pd.merge(recipes[['id', 'name', 'submitted']], reviews[['recipe_id', 'rating']], left_on='id', right_on='recipe_id')\n",
        "\n",
        "grouped = merged.groupby([merged['submitted'].dt.year, 'name'])['rating'].mean()\n",
        "\n",
        "lowest_rating = grouped.idxmin()\n",
        "\n",
        "print(\"Year and recipe with the lowest average rating: {}\\n\".format(lowest_rating))"
      ]
    },
    {
      "cell_type": "markdown",
      "metadata": {
        "id": "s-vODVu5pc1I"
      },
      "source": [
        "### Сохранение таблиц `pd.DataFrame`"
      ]
    },
    {
      "cell_type": "markdown",
      "metadata": {
        "id": "99aRJ60Zpc1I"
      },
      "source": [
        "6.1 Отсортируйте таблицу в порядке убывания величины столбца `name_word_count` и сохраните результаты выполнения заданий 3.1-3.3 в csv файл. "
      ]
    },
    {
      "cell_type": "code",
      "execution_count": null,
      "metadata": {
        "id": "SuDEBOjEpc1I"
      },
      "outputs": [],
      "source": [
        "recipes['description_length'] = recipes['description'].apply(lambda x: len(str(x).split()))\n",
        "\n",
        "recipes['name'] = recipes['name'].apply(lambda x: x.title())\n",
        "\n",
        "recipes['name_word_count'] = recipes['name'].apply(lambda x: len(str(x).split()))\n",
        "\n",
        "recipes_sorted = recipes.sort_values(by='name_word_count', ascending=False)\n",
        "\n",
        "recipes_sorted.to_csv('recipes_sorted.csv', index=False)"
      ]
    },
    {
      "cell_type": "code",
      "execution_count": null,
      "metadata": {
        "id": "0oOHcAzxpc1I",
        "outputId": "8ddfe802-10da-4e72-902b-5b0284c2906d"
      },
      "outputs": [
        {
          "name": "stdout",
          "output_type": "stream",
          "text": [
            "Quick and simple recipes:\n",
            "\n",
            "                                                    name      id  minutes  \\\n",
            "28                                   Quick Biscuit Bread  302399       20   \n",
            "60                         Peas  Fit For A King Or Queen  303944       20   \n",
            "90                     Hawaiian Sunrise           Mimosa  100837        5   \n",
            "91            Tasty Dish S   Banana Pudding In 2 Minutes  286484        2   \n",
            "94                                    1 Minute Meatballs   11361       13   \n",
            "...                                                  ...     ...      ...   \n",
            "29873  Zip And Steam Red Potatoes With Butter And Garlic  304922       13   \n",
            "29874                          Ziplock Vanilla Ice Cream   74250       10   \n",
            "29905                      Zucchini And Corn With Cheese  256177       15   \n",
            "29980               Zucchini With Jalapeno Monterey Jack  320622       10   \n",
            "29983                          Zucchini With Serrano Ham  162411       15   \n",
            "\n",
            "       contributor_id  submitted  n_steps  \\\n",
            "28             213909 2008-05-06     11.0   \n",
            "60             213909 2008-05-16      NaN   \n",
            "90              58104 2004-09-29      4.0   \n",
            "91              47892 2008-02-13      NaN   \n",
            "94               4470 2001-09-03      NaN   \n",
            "...               ...        ...      ...   \n",
            "29873          724218 2008-05-27      9.0   \n",
            "29874           24386 2003-10-29      8.0   \n",
            "29905          305531 2007-09-29      4.0   \n",
            "29980          305531 2008-08-20      3.0   \n",
            "29983          152500 2006-03-31      6.0   \n",
            "\n",
            "                                             description  n_ingredients  \\\n",
            "28     this is a wonderful quick bread to make as an ...            5.0   \n",
            "60     this recipe is so simple and the flavors are s...            5.0   \n",
            "90     pineapple mimosa was changed to hawaiian sunri...            3.0   \n",
            "91     \"mmmm, i love bananas!\" a --tasty dish-- origi...            4.0   \n",
            "94     this is a real short cut for cooks in a hurry....            2.0   \n",
            "...                                                  ...            ...   \n",
            "29873  i haven't tried this yet, but i am going to so...            5.0   \n",
            "29874  a fun thing for kids to do. may want to use mi...            3.0   \n",
            "29905  from betty crocker fresh spring recipes. i lik...            5.0   \n",
            "29980                                  simple and yummy!            3.0   \n",
            "29983  this dish is from tim malzer, a german chef wh...            5.0   \n",
            "\n",
            "       description_length  name_word_count  \n",
            "28                     23                3  \n",
            "60                     34                7  \n",
            "90                     54                3  \n",
            "91                     18                8  \n",
            "94                     41                3  \n",
            "...                   ...              ...  \n",
            "29873                  39                9  \n",
            "29874                  32                4  \n",
            "29905                  19                5  \n",
            "29980                   3                5  \n",
            "29983                  26                4  \n",
            "\n",
            "[2019 rows x 10 columns]\n"
          ]
        }
      ],
      "source": [
        "recipes['description_length'] = recipes['description'].apply(lambda x: len(str(x).split()))\n",
        "\n",
        "recipes['name'] = recipes['name'].apply(lambda x: x.title())\n",
        "\n",
        "recipes['name_word_count'] = recipes['name'].apply(lambda x: len(str(x).split()))\n",
        "\n",
        "recipes_sorted = recipes.sort_values(by='name_word_count', ascending=False)\n",
        "\n",
        "quick_and_simple_recipes = recipes[(recipes['minutes'] <= 20) & (recipes['n_ingredients'] <= 5)]\n",
        "quick_and_simple_recipes.to_csv('recipes_sorted.csv', mode='a', index=False, header=False)\n",
        "\n",
        "recipes['name'] = recipes['name'].apply(lambda x: x.title())\n",
        "\n",
        "recipes['name_word_count'] = recipes['name'].apply(lambda x: len(str(x).split()))\n",
        "\n",
        "recipes.to_csv('recipes_sorted.csv', mode='a', index=False, header=False)\n",
        "\n",
        "print(\"Quick and simple recipes:\\n\")\n",
        "print(quick_and_simple_recipes)"
      ]
    },
    {
      "cell_type": "markdown",
      "metadata": {
        "id": "JycMsGhmpc1I"
      },
      "source": [
        "6.2 Воспользовавшись `pd.ExcelWriter`, cохраните результаты 5.1 и 5.2 в файл: на лист с названием `Рецепты с оценками` сохраните результаты выполнения 5.1; на лист с названием `Количество отзывов по рецептам` сохраните результаты выполнения 5.2."
      ]
    },
    {
      "cell_type": "code",
      "execution_count": null,
      "metadata": {
        "id": "lBiwF06Kpc1J"
      },
      "outputs": [],
      "source": [
        "merged = pd.merge(recipes[['id', 'name', 'contributor_id']], reviews[['recipe_id', 'user_id', 'rating']], left_on='id', right_on='recipe_id')\n",
        "\n",
        "merged = merged.dropna(subset=['rating'])\n",
        "\n",
        "review_count = merged.groupby(['id', 'name'])['rating'].count().reset_index()\n",
        "\n",
        "review_count = review_count.rename(columns={'rating': 'review_count'})\n",
        "\n",
        "with pd.ExcelWriter('recipes_and_review_scores.xlsx') as writer:\n",
        "    merged[['id', 'name', 'user_id', 'rating']].to_excel(writer, sheet_name='Recipes with grades', index=False)\n",
        "\n",
        "with pd.ExcelWriter('recipes_and_review_scores.xlsx', mode='a') as writer:\n",
        "    review_count[['id', 'name', 'review_count']].to_excel(writer, sheet_name='Number of reviews on recipes', index=False)"
      ]
    },
    {
      "cell_type": "markdown",
      "metadata": {
        "id": "nrqbnbK7pc1J"
      },
      "source": [
        "#### [версия 2]\n",
        "* Уточнены формулировки задач 1.1, 3.3, 4.2, 5.1, 5.2, 5.3"
      ]
    },
    {
      "cell_type": "code",
      "execution_count": null,
      "metadata": {
        "id": "VyPNlOW2pc1J"
      },
      "outputs": [],
      "source": []
    }
  ],
  "metadata": {
    "kernelspec": {
      "display_name": "Python 3.10.1 64-bit",
      "language": "python",
      "name": "python3"
    },
    "language_info": {
      "codemirror_mode": {
        "name": "ipython",
        "version": 3
      },
      "file_extension": ".py",
      "mimetype": "text/x-python",
      "name": "python",
      "nbconvert_exporter": "python",
      "pygments_lexer": "ipython3",
      "version": "3.10.1"
    },
    "vscode": {
      "interpreter": {
        "hash": "bbc3c3d932324566a9bf4b4a52ddf64063695fc3adbf25b3fda92572428493bb"
      }
    },
    "colab": {
      "provenance": []
    }
  },
  "nbformat": 4,
  "nbformat_minor": 0
}